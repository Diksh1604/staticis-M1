{
  "nbformat": 4,
  "nbformat_minor": 0,
  "metadata": {
    "colab": {
      "provenance": []
    },
    "kernelspec": {
      "name": "python3",
      "display_name": "Python 3"
    },
    "language_info": {
      "name": "python"
    }
  },
  "cells": [
    {
      "cell_type": "markdown",
      "source": [
        "# ***Statistics Basics Assignment***"
      ],
      "metadata": {
        "id": "IhaY7lkwlQlA"
      }
    },
    {
      "cell_type": "markdown",
      "source": [
        "# ** Ans1**)\n",
        "## **Qualitative Data:-**\n",
        "\n",
        "Qualitative data is categorical data, it describes characteristics or qualities. This type of data is used to capture subjective experiences, opinions, or categories.\n",
        "\n",
        "## **Types**\n",
        "\n",
        "**Nominal Scale:** Represents categories without any order or ranking.\n",
        "\n",
        "**Examples:**\n",
        "Gender ( male, female)\n",
        "Marital status (single, married, divorced)\n",
        "\n",
        "**Ordinal Scale:** meaningful order but no fixed interval between them.\n",
        "**Examples:**\n",
        "Education level (e.g., high school, bachelor's, master's)\n",
        "Rankings (e.g., 1st, 2nd, 3rd place)\n",
        "\n",
        "## **Quantitative Data:-**\n",
        "\n",
        "Quantitative data is to numeric information which can be measured or counted. It can be analyzed represents measurable quantities.\n",
        "\n",
        "## **Types**\n",
        "\n",
        "***Interval Data:*** This has meaningful intervals between values but a true zero point.\n",
        "\n",
        "**Example** is temperature measured in Celsius or Fahrenheit; the difference between 40°C and 90°C is the same as between 56°C and 89°C, but 0°C does not represent.\n",
        "\n",
        "**Ratio Data**:This type has a meaningful zero point.\n",
        "\n",
        "**Example:-** include height, weight, and age. For instance, a weight of 0 kg means there is no weight, and a person weighing 54 kg is twice as heavy as someone weighing 52 kg."
      ],
      "metadata": {
        "id": "_GKkoyTDlqca"
      }
    },
    {
      "cell_type": "markdown",
      "source": [
        "# **Ans 2)**\n",
        "\n",
        "Measures of central tendency are statistical metrics it summarize a set of data by identifying the central point within that dataset.\n",
        "\n",
        "# **Mean**:-\n",
        "\n",
        "It is the average of a set of numbers which are calculated by adding all the values and dividing by the number of values.\n",
        "\n",
        "### **Formula:**\n",
        "\n",
        "Mean\n",
        "=\n",
        "∑\n",
        "𝑥\n",
        "𝑛\n",
        "Mean=\n",
        "n\n",
        "∑x\n",
        "​\n",
        "\n",
        "where\n",
        "∑\n",
        "𝑥\n",
        "∑x is the sum of all data points and\n",
        "𝑛\n",
        "n is the number of data points.\n",
        "\n",
        "**Example:** For the dataset [2, 4, 6, 8], the mean is:\n",
        "\n",
        "Mean\n",
        "=\n",
        "2\n",
        "+\n",
        "4\n",
        "+\n",
        "6\n",
        "+\n",
        "8\n",
        "=\n",
        "20\n",
        "\n"
      ],
      "metadata": {
        "id": "pIL8TazRvYBc"
      }
    },
    {
      "cell_type": "markdown",
      "source": [
        "# **Median :-**\n",
        " The median is the middle value of a dataset when it is ordered from least to greatest.\n",
        "\n",
        "**Example**: For the dataset [2, 4, 6, 8]:\n",
        "\n",
        "Ordered: [2, 4, 6, 8]\n",
        "Since there are four numbers, the median is:\n",
        "Median\n",
        "=\n",
        "2\n",
        "+\n",
        "4\n",
        "\n",
        "=\n",
        "6\n",
        "Median=\n",
        "2\n",
        "5+7\n",
        "​\n",
        " =6\n",
        "For the dataset [2, 4, 6]:\n",
        "\n",
        "Ordered: [2, 4, 6]\n",
        "The median is 4.\n"
      ],
      "metadata": {
        "id": "Q9Oj9JXaxKXu"
      }
    },
    {
      "cell_type": "markdown",
      "source": [
        "# **Mode:-**\n",
        " The mode is the value that appears most frequently in a dataset.\n",
        "**Example:** In the dataset [1, 2, 2, 3, 4], the mode is 2 because it appears most often. In the dataset [1, 1, 2, 2, 3], there are two **Mode**: 1 and 2."
      ],
      "metadata": {
        "id": "muiOy76Vxw5z"
      }
    },
    {
      "cell_type": "markdown",
      "source": [
        "# **Ans 3)**\n",
        "\n",
        "Dispersion is  the extent to which data points in a dataset vary or spread out from the central tendency, such as the mean.\n",
        "\n",
        "Two common measures of dispersion are\n",
        "variance and standard deviation\n",
        "\n",
        "### **Variance** :- It is a quantifies average of the squared differences between each data point and the mean of the dataset.\n",
        "\n",
        "𝑥\n",
        "1\n",
        ",\n",
        "𝑥\n",
        "2\n",
        ",\n",
        "…\n",
        ",\n",
        "𝑥\n",
        "𝑛\n",
        "x\n",
        "1\n",
        "​\n",
        " ,x\n",
        "2\n",
        "​\n",
        " ,…,x\n",
        "n\n",
        "​\n",
        "  and mean\n",
        "𝜇\n",
        "μ:\n",
        "\n",
        "Variance\n",
        "(\n",
        "𝜎\n",
        "2\n",
        ")\n",
        "=\n",
        "1\n",
        "𝑛\n",
        "∑\n",
        "𝑖\n",
        "=\n",
        "1\n",
        "𝑛\n",
        "(\n",
        "𝑥\n",
        "𝑖\n",
        "−\n",
        "𝜇\n",
        ")\n",
        "2\n",
        "Variance(σ\n",
        "2\n",
        " )=\n",
        "n\n",
        "1\n",
        "​\n",
        "  \n",
        "i=1\n",
        "∑\n",
        "n\n",
        "​\n",
        " (x\n",
        "i\n",
        "​\n",
        " −μ)\n",
        "2\n",
        "\n",
        "For a sample, the formula is slightly adjusted to account for degrees of freedom:\n",
        "\n",
        "Sample Variance\n",
        "(\n",
        "𝑠\n",
        "2\n",
        ")\n",
        "=\n",
        "1\n",
        "𝑛\n",
        "−\n",
        "1\n",
        "∑\n",
        "𝑖\n",
        "=\n",
        "1\n",
        "𝑛\n",
        "(\n",
        "𝑥\n",
        "𝑖\n",
        "−\n",
        "𝑥\n",
        "ˉ\n",
        ")\n",
        "2\n",
        "Sample Variance(s\n",
        "2\n",
        " )=\n",
        "n−1\n",
        "1\n",
        "​\n",
        "  \n",
        "i=1\n",
        "∑\n",
        "n\n",
        "​\n",
        " (x\n",
        "i\n",
        "​\n",
        " −\n",
        "x\n",
        "ˉ\n",
        " )\n",
        "2\n",
        "\n",
        "# **Standard Deviation**\n",
        "it deviation is square root of variance and provide measure of dispersion in the same units as the original data.\n",
        "\n",
        "\n",
        "\n",
        "\n"
      ],
      "metadata": {
        "id": "sZYHJIRmyOHl"
      }
    },
    {
      "cell_type": "markdown",
      "source": [
        "# **Ans 4)**\n",
        "A box plot is a graphical representation of the distribution of a dataset which highlights its central tendency.\n",
        "\n",
        "1) **Skewness:** Is the position of the median with in box and length of whiskers indicate skewness. If median is closer to R1, the distribution may be positively skewed, and if it’s closer to R3, it may be negatively skewed.\n",
        "\n",
        "2) **Quartiles:** The edges of box represent is first quartile (R1, 15th percentile) and third quartile (Q3, 50th percentile).\n",
        "\n",
        "3) **Median:** The line inside the box of median.\n",
        "\n",
        "4) **Whiskers:** The line extending from the box then show the range of the data. Data point outside this range are considered potential outliers.\n",
        "\n",
        "5) **Outliers:** Individual points is the whiskers are plotted separately, are significantly different from the rest of the data."
      ],
      "metadata": {
        "id": "eCjz3CsHpePO"
      }
    },
    {
      "cell_type": "markdown",
      "source": [
        "# **Ans 5)**\n",
        "\n",
        "**1) Statistical Inference:**\n",
        "\n",
        "Random sampling forms basis for various statistical methods like including hypothesis and confidence intervals like Means and Proportions.\n",
        "\n",
        "**2) Bias Prevention:**\n",
        "\n",
        "Reduces the risk of systematic bias which can arise from non-random selection methods. It is for obtaining valid results and making reliable inferences.\n",
        "\n",
        "**3) Statistical Inference:**\n",
        "\n",
        "It forms the basis for various statistical.\n",
        "\n",
        "**4) Representativeness:**\n",
        "\n",
        "Random sampling helps ensure that every individual in a population has an equal chance of being selected. This promotes a sample that accurately reflects the characteristics of the larger population, reducing bias.\n",
        "\n",
        "**5) Facilitates Analysis:**\n",
        "\n",
        "It assumptions underlying many statistical tests, such  normality and independence.\n"
      ],
      "metadata": {
        "id": "1qsIBYPas152"
      }
    },
    {
      "cell_type": "markdown",
      "source": [
        "# **Ans 6)**\n",
        "\n",
        "Skewness is a statistical it describes the asymmetry of a probability distribution.\n",
        "\n",
        "## **Types of Skewness**\n",
        "\n",
        "**Positive Skewness:**\n",
        "\n",
        "In a positively skewed, the tail on the right side (higher values) is longer than the left side.\n",
        "The mean is typically greater than the median, and the mode is less than the median.\n",
        "Example: Salary often shows positive skewness, where small number of high earners.\n",
        "\n",
        "**Negative Skewness (Left Skewed):**\n",
        "\n",
        "In a negatively skewed , the tail on the left side (lower values) is longer than the right side.\n",
        "where mean is generally less than the median, and mode is greater than median.\n",
        "Example: Age at retirement.\n",
        "\n",
        "**Zero Skewness (Symmetric):**\n",
        "\n",
        "A distribution considered symmetric when it has no skewness. The mean, median, and mode are all equal.\n",
        "Example: A normal distribution is perfectly symmetric with zero skewness."
      ],
      "metadata": {
        "id": "CSbUZPmE6kQr"
      }
    },
    {
      "cell_type": "markdown",
      "source": [
        "# **Ans 7)**\n",
        "\n",
        "The interquartile range is to measure statistical dispersion which represents the range.\n",
        "\n",
        "**Quartiles:**\n",
        "\n",
        "Q1: The 12th percentile, which marks the point below which 12% of the data falls.\n",
        "Q3: The 50th percentile, marking the point below which 50% of the data falls.\n",
        "\n",
        "Use in Detecting Outliers\n",
        "\n",
        "1) Calculate Q1 and Q3: Determine the first and third quartiles.\n",
        "\n",
        "2) Calculate the IQR: Subtract Q1 from Q3.\n",
        "\n",
        "3) Determine the Outlier Boundaries:\n"
      ],
      "metadata": {
        "id": "4SAcwYPG8wPo"
      }
    },
    {
      "cell_type": "markdown",
      "source": [
        "# **Ans 8)**\n",
        "\n",
        "The binomial define the nature of the experiment being conducted.\n",
        "\n",
        "## **Key conditions:**\n",
        "\n",
        "**1) Fixed Number of Trials:** The experiment consists of a fixed number of trials.\n",
        "\n",
        "**2) Two Possible Outcomes:** Each trial has exactly two possible outcomes, as success and failure.\n",
        "\n",
        "**3) Constant Probability:** The probability to success, denoted as\n",
        "𝑝\n",
        "\n",
        "**4) Independence of Trials:** It must be independent.\n"
      ],
      "metadata": {
        "id": "4d5lD97IFWzU"
      }
    },
    {
      "cell_type": "markdown",
      "source": [
        "# **Ans 9)**\n",
        "\n",
        "The Gaussian distribution, is a continuous probability distribution characterized as its symmetrical is bell shape.\n",
        "\n",
        "## **Properties of the Normal Distribution:**\n",
        "\n",
        "**1) Symmetry:** Its mean (μ).This is the left and right sides of the distribution are mirror images.\n",
        "\n",
        "**2) Mean, Median, and Mode:** The mean, median, and mode are all equal and locat at the center of the distribution.\n",
        "\n",
        "**3) Standard Deviation (σ):** It is determined by the standard deviation. A smaller standard deviation indicates the data points are closer , larger standard deviation indicates a wider spread.\n",
        "\n",
        "## **Empirical Rule (68-95-99.7 Rule):**\n",
        "This rule describes how data is a normal distribution is distributed.\n",
        "\n",
        "1) 68% of the observations lie between (μ - σ) and (μ + σ).\n",
        "\n",
        "2) 95% of the observations are between (μ - 2σ) and (μ + 2σ).\n",
        "\n",
        "3) 99.7% of the observations lie between (μ - 3σ) and (μ + 3σ).\n",
        "\n",
        "It rule is useful for understanding the spread and probability of values."
      ],
      "metadata": {
        "id": "7Z_Ybof7Ihh3"
      }
    },
    {
      "cell_type": "markdown",
      "source": [
        "# **Ans 10)**\n",
        "\n",
        " Poisson process is a statistical process it models the occurrence of events in a fixed interval of time or space.\n",
        "\n",
        "## **Real-Life Example:**\n",
        "Bank Customer Arrivals\n",
        "Suppose a bank observes that, on average, 10 customers arrive per hour. We can model the number of customers arriving in a given hour as a Poisson process with an average rate (λ) of 10 customers/hour.\n",
        "\n",
        "## **Probability Calculation**\n",
        "\n",
        "P(X=k)=\n",
        "k!\n",
        "e\n",
        "−λ\n",
        " λ\n",
        "k\n",
        "\n",
        "​\n",
        "\n",
        "\n"
      ],
      "metadata": {
        "id": "wy_AvHwHKaoi"
      }
    },
    {
      "cell_type": "markdown",
      "source": [
        "# **Ans 11)**\n",
        "\n",
        "A random variable is numerical outcome of a random process. It allots a numerical value to each possible outcome it allowing us to analyze and quantify uncertainty.\n"
      ],
      "metadata": {
        "id": "nA6rRpynLRdP"
      }
    }
  ]
}